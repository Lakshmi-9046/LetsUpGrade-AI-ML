{
  "nbformat": 4,
  "nbformat_minor": 0,
  "metadata": {
    "colab": {
      "name": "Day3_Assignment1.ipynb",
      "provenance": []
    },
    "kernelspec": {
      "name": "python3",
      "display_name": "Python 3"
    }
  },
  "cells": [
    {
      "cell_type": "markdown",
      "metadata": {
        "id": "JgZMMpEoGtXL",
        "colab_type": "text"
      },
      "source": [
        "# Write a program to subtract the two complex numbers in python?"
      ]
    },
    {
      "cell_type": "code",
      "metadata": {
        "id": "-Tb-n270Gkm0",
        "colab_type": "code",
        "colab": {
          "base_uri": "https://localhost:8080/",
          "height": 34
        },
        "outputId": "74a9fb05-d50a-4524-edcd-dea72904cd92"
      },
      "source": [
        "number1=complex(2,3)\n",
        "number2=complex(5,6)\n",
        "print(\"Subraction of two complex numbers\",number1-number2)\n"
      ],
      "execution_count": 2,
      "outputs": [
        {
          "output_type": "stream",
          "text": [
            "Subraction of two complex numbers (-3-3j)\n"
          ],
          "name": "stdout"
        }
      ]
    },
    {
      "cell_type": "code",
      "metadata": {
        "id": "lIwmY6DmJSdW",
        "colab_type": "code",
        "colab": {}
      },
      "source": [
        ""
      ],
      "execution_count": null,
      "outputs": []
    },
    {
      "cell_type": "markdown",
      "metadata": {
        "id": "bj-C2OzfJYIM",
        "colab_type": "text"
      },
      "source": [
        "# Write a program to find the fourth root of a number?"
      ]
    },
    {
      "cell_type": "code",
      "metadata": {
        "id": "Sx1xlybAJjK3",
        "colab_type": "code",
        "colab": {
          "base_uri": "https://localhost:8080/",
          "height": 70
        },
        "outputId": "b8a893b8-b7bd-47db-dfef-58e2d6f99687"
      },
      "source": [
        "number=int(input(\"enter the number:\"))\n",
        "root=int(input(\"enter the root :\"))\n",
        "res=number**(1/root)\n",
        "print(\"The result is :\",res)"
      ],
      "execution_count": 5,
      "outputs": [
        {
          "output_type": "stream",
          "text": [
            "enter the number:64\n",
            "enter the root :2\n",
            "The result is : 8.0\n"
          ],
          "name": "stdout"
        }
      ]
    },
    {
      "cell_type": "code",
      "metadata": {
        "id": "M9ypWoN4J-j3",
        "colab_type": "code",
        "colab": {}
      },
      "source": [
        ""
      ],
      "execution_count": null,
      "outputs": []
    },
    {
      "cell_type": "markdown",
      "metadata": {
        "id": "u8JBX28lK3Ma",
        "colab_type": "text"
      },
      "source": [
        "# Write a program to swap two numbers with the help of temporary variable?"
      ]
    },
    {
      "cell_type": "code",
      "metadata": {
        "id": "LVWqIvj4LHkv",
        "colab_type": "code",
        "colab": {
          "base_uri": "https://localhost:8080/",
          "height": 52
        },
        "outputId": "783b2428-16b5-4ad0-9887-4af51b987988"
      },
      "source": [
        "a=10\n",
        "b=20\n",
        "print(\"Before swaping the values are a={} and b={}\".format(a,b))\n",
        "temp=a\n",
        "a=b\n",
        "b=temp\n",
        "print(\"After swaping the values are a={} and b={}\".format(a,b))\n"
      ],
      "execution_count": 6,
      "outputs": [
        {
          "output_type": "stream",
          "text": [
            "Before swaping the values are a=10 and b=20\n",
            "After swaping the values are a=20 and b10\n"
          ],
          "name": "stdout"
        }
      ]
    },
    {
      "cell_type": "markdown",
      "metadata": {
        "id": "LZlmJZBSLvSC",
        "colab_type": "text"
      },
      "source": [
        "# Write a python program to swap two numbers without using temporary variable?"
      ]
    },
    {
      "cell_type": "code",
      "metadata": {
        "id": "ujEtmZtzLrf4",
        "colab_type": "code",
        "colab": {
          "base_uri": "https://localhost:8080/",
          "height": 52
        },
        "outputId": "c42cb693-c6d9-45b4-c88c-3231364bf88e"
      },
      "source": [
        "a=10\n",
        "b=20\n",
        "print(\"Before swaping the values are a={} and b={}\".format(a,b))\n",
        "a=(int)((a*b)/a)\n",
        "b=(int)((a*b)/b)\n",
        "print(\"After swaping the values are a={} and b={}\".format(a,b))"
      ],
      "execution_count": 10,
      "outputs": [
        {
          "output_type": "stream",
          "text": [
            "Before swaping the values are a=10 and b=20\n",
            "After swaping the values are a=20 and b=20\n"
          ],
          "name": "stdout"
        }
      ]
    },
    {
      "cell_type": "markdown",
      "metadata": {
        "id": "Re3X_jWMM3zj",
        "colab_type": "text"
      },
      "source": [
        "# Write a python program to convert fahrenheit to kelvin and celsuis both"
      ]
    },
    {
      "cell_type": "code",
      "metadata": {
        "id": "Hk8HRlveMhDh",
        "colab_type": "code",
        "colab": {
          "base_uri": "https://localhost:8080/",
          "height": 70
        },
        "outputId": "89a85b1c-9208-4872-d713-9a142098b2e2"
      },
      "source": [
        "fahrenheit=float(input(\"enter the fahrenheit temperature\"))\n",
        "#converting fahrenheit to kelvin\n",
        "kelvin=(fahrenheit-32)*(5/9)+273.15\n",
        "print(\"fahrenheit to kelvin:\",kelvin)\n",
        "celsius=(fahrenheit-32)*(5/9)\n",
        "print(\"fahrenheit to celsius:\",celsius)"
      ],
      "execution_count": 13,
      "outputs": [
        {
          "output_type": "stream",
          "text": [
            "enter the fahrenheit temperature456.7\n",
            "fahrenheit to kelvin: 509.09444444444443\n",
            "fahrenheit to celsius: 235.94444444444446\n"
          ],
          "name": "stdout"
        }
      ]
    },
    {
      "cell_type": "markdown",
      "metadata": {
        "id": "MlHKtr62RwO8",
        "colab_type": "text"
      },
      "source": [
        "# Program to demonstrate the available data types in the python?"
      ]
    },
    {
      "cell_type": "code",
      "metadata": {
        "id": "oiGYykSUQmEL",
        "colab_type": "code",
        "colab": {
          "base_uri": "https://localhost:8080/",
          "height": 176
        },
        "outputId": "53815a4f-9530-4ab6-ebac-dcfc5c0b02ad"
      },
      "source": [
        "value=456\n",
        "print(type(value))\n",
        "value=45.345\n",
        "print(type(value))\n",
        "value=6+5j\n",
        "print(type(value))\n",
        "value=True\n",
        "print(type(value))\n",
        "value=\"Hai these is python programming\"\n",
        "print(type(value))\n",
        "li=[12,34,45]\n",
        "print(type(li))\n",
        "tup=(4,5,6)\n",
        "print(type(tup))\n",
        "dic={1:2,2:3}\n",
        "print(type(dic))\n",
        "set1=set()\n",
        "set1={1,2,4}\n",
        "print(type(set1))"
      ],
      "execution_count": 17,
      "outputs": [
        {
          "output_type": "stream",
          "text": [
            "<class 'int'>\n",
            "<class 'float'>\n",
            "<class 'complex'>\n",
            "<class 'bool'>\n",
            "<class 'str'>\n",
            "<class 'list'>\n",
            "<class 'tuple'>\n",
            "<class 'dict'>\n",
            "<class 'set'>\n"
          ],
          "name": "stdout"
        }
      ]
    },
    {
      "cell_type": "code",
      "metadata": {
        "id": "Hv3aTsBsSo7m",
        "colab_type": "code",
        "colab": {}
      },
      "source": [
        ""
      ],
      "execution_count": null,
      "outputs": []
    },
    {
      "cell_type": "markdown",
      "metadata": {
        "id": "b3D8qrHLU4py",
        "colab_type": "text"
      },
      "source": [
        "# Steps to create GitHub profile\n",
        "step1: Go to website https://github.com/\n",
        "\n",
        "\n",
        "\n",
        "step2: Create account by entering email address an strong password\n",
        "# Steps to upload the Assignment\n",
        "step1: Create a respository and name as \"LetsUpGradeAI/ML\" by clicking new button\n",
        "\n",
        "\n",
        "step2:Drag the folder which contains \".ipynb\" files "
      ]
    },
    {
      "cell_type": "code",
      "metadata": {
        "id": "eo9APi8LZNtD",
        "colab_type": "code",
        "colab": {}
      },
      "source": [
        ""
      ],
      "execution_count": null,
      "outputs": []
    }
  ]
}
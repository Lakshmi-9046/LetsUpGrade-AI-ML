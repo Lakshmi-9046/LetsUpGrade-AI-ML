{
  "nbformat": 4,
  "nbformat_minor": 0,
  "metadata": {
    "colab": {
      "name": "Day5_Assignment",
      "provenance": []
    },
    "kernelspec": {
      "name": "python3",
      "display_name": "Python 3"
    }
  },
  "cells": [
    {
      "cell_type": "markdown",
      "metadata": {
        "id": "LuGeWxbJG6Fr",
        "colab_type": "text"
      },
      "source": [
        "# Write a python program to find first 20 non-even prime numbers"
      ]
    },
    {
      "cell_type": "code",
      "metadata": {
        "id": "kcO5JmWnKIPN",
        "colab_type": "code",
        "colab": {
          "base_uri": "https://localhost:8080/",
          "height": 390
        },
        "outputId": "88be233c-6a71-4c9a-b0db-2df496782ea0"
      },
      "source": [
        "import math as m\n",
        "def prime_number(num):\n",
        "  count=0\n",
        "  if num==1:\n",
        "    return False\n",
        "  else:\n",
        "     for i in range(2,num):\n",
        "          if num%i==0:\n",
        "            count+=1\n",
        "            break\n",
        "  if count==1:\n",
        "      return False\n",
        "  else:\n",
        "    return True \n",
        "num_count=0\n",
        "number=3\n",
        "while(num_count<=20):\n",
        "  if prime_number(number):\n",
        "    print(number)\n",
        "    num_count+=1\n",
        "  number+=1\n",
        "         "
      ],
      "execution_count": 24,
      "outputs": [
        {
          "output_type": "stream",
          "text": [
            "3\n",
            "5\n",
            "7\n",
            "11\n",
            "13\n",
            "17\n",
            "19\n",
            "23\n",
            "29\n",
            "31\n",
            "37\n",
            "41\n",
            "43\n",
            "47\n",
            "53\n",
            "59\n",
            "61\n",
            "67\n",
            "71\n",
            "73\n",
            "79\n"
          ],
          "name": "stdout"
        }
      ]
    },
    {
      "cell_type": "markdown",
      "metadata": {
        "id": "Bq9dbykbrnSt",
        "colab_type": "text"
      },
      "source": [
        "# Write a python program to implement the 15 String functions"
      ]
    },
    {
      "cell_type": "code",
      "metadata": {
        "id": "qNg1LX_ILTWO",
        "colab_type": "code",
        "colab": {
          "base_uri": "https://localhost:8080/",
          "height": 283
        },
        "outputId": "0c635dd8-dec5-48dd-c153-d84ea5429d74"
      },
      "source": [
        "string1=\"Lakshmi prasanna\"\n",
        "print(string1.swapcase())\n",
        "print(string1.capitalize())\n",
        "print(string1.lower())\n",
        "print(string1.upper())\n",
        "print(string1.isalpha())\n",
        "print(string1.isdigit())\n",
        "print(string1.islower())\n",
        "print(string1.isupper())\n",
        "print(string1.isalnum())\n",
        "print(string1.isspace())\n",
        "print(string1.count(\"a\"))\n",
        "print(string1.index(\"p\"))\n",
        "print(string1.find(\"r\"))\n",
        "print(string1.partition(\" \"))\n",
        "print(string1.rpartition(\"k\"))\n",
        "\n",
        "\n"
      ],
      "execution_count": 21,
      "outputs": [
        {
          "output_type": "stream",
          "text": [
            "lAKSHMI PRASANNA\n",
            "Lakshmi prasanna\n",
            "lakshmi prasanna\n",
            "LAKSHMI PRASANNA\n",
            "False\n",
            "False\n",
            "False\n",
            "False\n",
            "False\n",
            "False\n",
            "4\n",
            "8\n",
            "9\n",
            "('Lakshmi', ' ', 'prasanna')\n",
            "('La', 'k', 'shmi prasanna')\n"
          ],
          "name": "stdout"
        }
      ]
    },
    {
      "cell_type": "markdown",
      "metadata": {
        "id": "0UBdsB2bw2PA",
        "colab_type": "text"
      },
      "source": [
        "# Write a python program to check wheather the string is palindrome or anagram or None of them  "
      ]
    },
    {
      "cell_type": "code",
      "metadata": {
        "id": "6i7btNzJLcDd",
        "colab_type": "code",
        "colab": {
          "base_uri": "https://localhost:8080/",
          "height": 141
        },
        "outputId": "ea5d2af0-4a47-4f6d-ab01-ccada43bd5b3"
      },
      "source": [
        "def palindrome(s1):\n",
        "  if s1==s1[::-1]:\n",
        "    return True\n",
        "def anagram(s1,s2):\n",
        "  if sorted(s1)==sorted(s2):\n",
        "    return True\n",
        "print(\"Choose one\\n 1.Palindrome \\n2.Anagram\\n3.EXIT\")\n",
        "option=int(input())\n",
        "if option==1:\n",
        "  str1=input(\"enter first String\")\n",
        "  if palindrome(str1):\n",
        "     print(str1,\"is palindrome\")\n",
        "  else:\n",
        "    print(\"None\")\n",
        "elif option==2:\n",
        "  str1=input(\"enter first String\")\n",
        "  str2=input(\"enter second string\")\n",
        "  if anagram(str1,str2):\n",
        "     print(\"Both strings are anagram\")\n",
        "  else:\n",
        "    print(\"None\")\n",
        "else:\n",
        "  print(\"None\")\n",
        "\n"
      ],
      "execution_count": 28,
      "outputs": [
        {
          "output_type": "stream",
          "text": [
            "Choose one\n",
            " 1.Palindrome \n",
            "2.Anagram\n",
            "3.EXIT\n",
            "1\n",
            "enter first Stringmom\n",
            "mom is palindrome\n"
          ],
          "name": "stdout"
        }
      ]
    },
    {
      "cell_type": "markdown",
      "metadata": {
        "id": "b1LRsI753tmx",
        "colab_type": "text"
      },
      "source": [
        "# Write a python user defined function to remove all the additional characters from the string and converts it into finally loiwer case uysing built-in lower()"
      ]
    },
    {
      "cell_type": "code",
      "metadata": {
        "id": "NzjN1uk-1C5F",
        "colab_type": "code",
        "colab": {
          "base_uri": "https://localhost:8080/",
          "height": 52
        },
        "outputId": "9dee6dea-66ba-49c5-8f00-6bd79f11536c"
      },
      "source": [
        "def remove_characters(str):\n",
        "  dup_str=\"\"\n",
        "  for i in str:\n",
        "    if i.isalpha():\n",
        "      dup_str+=i\n",
        "  return dup_str.lower()\n",
        "string=input(\"enter the string\")\n",
        "print(remove_characters(string))\n"
      ],
      "execution_count": 34,
      "outputs": [
        {
          "output_type": "stream",
          "text": [
            "enter the stringDr.Darshan Ingle @AI-ML Trainer\n",
            "drdarshaningleaimltrainer\n"
          ],
          "name": "stdout"
        }
      ]
    },
    {
      "cell_type": "code",
      "metadata": {
        "id": "6KWmWpJQ57pZ",
        "colab_type": "code",
        "colab": {}
      },
      "source": [
        ""
      ],
      "execution_count": null,
      "outputs": []
    }
  ]
}
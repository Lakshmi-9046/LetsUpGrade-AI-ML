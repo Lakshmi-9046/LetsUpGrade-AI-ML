{
  "nbformat": 4,
  "nbformat_minor": 0,
  "metadata": {
    "colab": {
      "name": "Sets.ipynb",
      "provenance": []
    },
    "kernelspec": {
      "name": "python3",
      "display_name": "Python 3"
    }
  },
  "cells": [
    {
      "cell_type": "code",
      "metadata": {
        "id": "Uvt_4whljixk",
        "colab_type": "code",
        "colab": {}
      },
      "source": [
        ""
      ],
      "execution_count": null,
      "outputs": []
    },
    {
      "cell_type": "markdown",
      "metadata": {
        "id": "bJUuRHo8jnGL",
        "colab_type": "text"
      },
      "source": [
        "Set   i         s   "
      ]
    },
    {
      "cell_type": "markdown",
      "metadata": {
        "id": "fRL8_aBwjq7M",
        "colab_type": "text"
      },
      "source": [
        "Set is collection of unordered set of elements.It does not allows the duplicate values"
      ]
    },
    {
      "cell_type": "code",
      "metadata": {
        "id": "r7WwmbCgkaqM",
        "colab_type": "code",
        "colab": {
          "base_uri": "https://localhost:8080/",
          "height": 34
        },
        "outputId": "1a983c30-36b7-4ac5-f51d-578b9cdac0ad"
      },
      "source": [
        "set1={}\n",
        "type(set1)# By default it is dictionary"
      ],
      "execution_count": 1,
      "outputs": [
        {
          "output_type": "execute_result",
          "data": {
            "text/plain": [
              "dict"
            ]
          },
          "metadata": {
            "tags": []
          },
          "execution_count": 1
        }
      ]
    },
    {
      "cell_type": "markdown",
      "metadata": {
        "id": "5LLhPtM5lJKn",
        "colab_type": "text"
      },
      "source": [
        "Inorder to create the set the set() method is used"
      ]
    },
    {
      "cell_type": "code",
      "metadata": {
        "id": "BP4JmKYZlWHn",
        "colab_type": "code",
        "colab": {
          "base_uri": "https://localhost:8080/",
          "height": 34
        },
        "outputId": "c2086536-47c3-49a5-e28a-96d8ee69e32d"
      },
      "source": [
        "set1=set()\n",
        "type(set1) #the empty set"
      ],
      "execution_count": 2,
      "outputs": [
        {
          "output_type": "execute_result",
          "data": {
            "text/plain": [
              "set"
            ]
          },
          "metadata": {
            "tags": []
          },
          "execution_count": 2
        }
      ]
    },
    {
      "cell_type": "markdown",
      "metadata": {
        "id": "x_oR_cZ7lr4x",
        "colab_type": "text"
      },
      "source": [
        "Adding elements in the set:       \n",
        "\n",
        "add() is used to add the elements"
      ]
    },
    {
      "cell_type": "code",
      "metadata": {
        "id": "8sM2CUmxlgih",
        "colab_type": "code",
        "colab": {
          "base_uri": "https://localhost:8080/",
          "height": 34
        },
        "outputId": "a5bfcea5-39d9-401d-9b7f-d3ddabcec471"
      },
      "source": [
        "set1.add(1)#It adds new element\n",
        "print(set1)"
      ],
      "execution_count": 3,
      "outputs": [
        {
          "output_type": "stream",
          "text": [
            "{1}\n"
          ],
          "name": "stdout"
        }
      ]
    },
    {
      "cell_type": "markdown",
      "metadata": {
        "id": "_OqWt6CGmGsb",
        "colab_type": "text"
      },
      "source": [
        "Updating the elements in sets:\n"
      ]
    },
    {
      "cell_type": "code",
      "metadata": {
        "id": "XizKSIxumC35",
        "colab_type": "code",
        "colab": {
          "base_uri": "https://localhost:8080/",
          "height": 51
        },
        "outputId": "ebd54a1f-1172-4207-f95b-a96097d84b01"
      },
      "source": [
        "set1={6,7,8,9,10}\n",
        "print(set1)\n",
        "set2={1,2,3,4,5}\n",
        "set1.update(set2)#set2 elements are added to the set1\n",
        "print(set1)"
      ],
      "execution_count": 4,
      "outputs": [
        {
          "output_type": "stream",
          "text": [
            "{6, 7, 8, 9, 10}\n",
            "{1, 2, 3, 4, 5, 6, 7, 8, 9, 10}\n"
          ],
          "name": "stdout"
        }
      ]
    },
    {
      "cell_type": "markdown",
      "metadata": {
        "id": "mdxqL3hk6zrj",
        "colab_type": "text"
      },
      "source": [
        "Removing elements"
      ]
    },
    {
      "cell_type": "code",
      "metadata": {
        "id": "T8mFiV1NmyDp",
        "colab_type": "code",
        "colab": {
          "base_uri": "https://localhost:8080/",
          "height": 51
        },
        "outputId": "c3f8ad37-5a32-4453-d336-027361dcf23f"
      },
      "source": [
        "#pop() is used to pop the any random element in the set\n",
        "print(set1.pop())# It returns the element which is removed\n",
        "print(set1)"
      ],
      "execution_count": 6,
      "outputs": [
        {
          "output_type": "stream",
          "text": [
            "2\n",
            "{3, 4, 5, 6, 7, 8, 9, 10}\n"
          ],
          "name": "stdout"
        }
      ]
    },
    {
      "cell_type": "markdown",
      "metadata": {
        "id": "lA8kNOZq8TLc",
        "colab_type": "text"
      },
      "source": [
        "remove()--> It removes the element which is mentioned if not it displays the error message"
      ]
    },
    {
      "cell_type": "code",
      "metadata": {
        "id": "AfTA-D-h7wSd",
        "colab_type": "code",
        "colab": {
          "base_uri": "https://localhost:8080/",
          "height": 197
        },
        "outputId": "a8f12ddc-3c90-49ea-e3dc-6df0f5f67c43"
      },
      "source": [
        "print(set1.remove(10))#It returns the None\n",
        "print(set1.remove(2))#It displays the error message it doesn't present in the set"
      ],
      "execution_count": 10,
      "outputs": [
        {
          "output_type": "stream",
          "text": [
            "None\n"
          ],
          "name": "stdout"
        },
        {
          "output_type": "error",
          "ename": "KeyError",
          "evalue": "ignored",
          "traceback": [
            "\u001b[0;31m---------------------------------------------------------------------------\u001b[0m",
            "\u001b[0;31mKeyError\u001b[0m                                  Traceback (most recent call last)",
            "\u001b[0;32m<ipython-input-10-939a48cf31e7>\u001b[0m in \u001b[0;36m<module>\u001b[0;34m()\u001b[0m\n\u001b[1;32m      1\u001b[0m \u001b[0mprint\u001b[0m\u001b[0;34m(\u001b[0m\u001b[0mset1\u001b[0m\u001b[0;34m.\u001b[0m\u001b[0mremove\u001b[0m\u001b[0;34m(\u001b[0m\u001b[0;36m10\u001b[0m\u001b[0;34m)\u001b[0m\u001b[0;34m)\u001b[0m\u001b[0;31m#It returns the None\u001b[0m\u001b[0;34m\u001b[0m\u001b[0;34m\u001b[0m\u001b[0m\n\u001b[0;32m----> 2\u001b[0;31m \u001b[0mprint\u001b[0m\u001b[0;34m(\u001b[0m\u001b[0mset1\u001b[0m\u001b[0;34m.\u001b[0m\u001b[0mremove\u001b[0m\u001b[0;34m(\u001b[0m\u001b[0;36m2\u001b[0m\u001b[0;34m)\u001b[0m\u001b[0;34m)\u001b[0m\u001b[0;31m#It displays the error message it doesn't present in the set\u001b[0m\u001b[0;34m\u001b[0m\u001b[0;34m\u001b[0m\u001b[0m\n\u001b[0m",
            "\u001b[0;31mKeyError\u001b[0m: 2"
          ]
        }
      ]
    },
    {
      "cell_type": "code",
      "metadata": {
        "id": "i3PH58Df8h6T",
        "colab_type": "code",
        "colab": {
          "base_uri": "https://localhost:8080/",
          "height": 51
        },
        "outputId": "6fb4cce8-86a8-48fb-c5c2-7a65f414d6e2"
      },
      "source": [
        "print(set1)\n",
        "set1.discard(4)# it works same as remove method but doesn't display the error message\n",
        "print(set1)"
      ],
      "execution_count": 12,
      "outputs": [
        {
          "output_type": "stream",
          "text": [
            "{4, 5, 7, 8}\n",
            "{5, 7, 8}\n"
          ],
          "name": "stdout"
        }
      ]
    },
    {
      "cell_type": "code",
      "metadata": {
        "id": "NF7wA7fS9XVc",
        "colab_type": "code",
        "colab": {
          "base_uri": "https://localhost:8080/",
          "height": 34
        },
        "outputId": "b7055358-474a-4ed5-cea4-ce081880dba9"
      },
      "source": [
        "set1.clear()#It removes all the elements in the set\n",
        "set1"
      ],
      "execution_count": 16,
      "outputs": [
        {
          "output_type": "execute_result",
          "data": {
            "text/plain": [
              "set()"
            ]
          },
          "metadata": {
            "tags": []
          },
          "execution_count": 16
        }
      ]
    },
    {
      "cell_type": "code",
      "metadata": {
        "id": "FJNObVcd9qpm",
        "colab_type": "code",
        "colab": {
          "base_uri": "https://localhost:8080/",
          "height": 34
        },
        "outputId": "c326d30e-fad6-46a0-b527-4649c36a929c"
      },
      "source": [
        "set1={1,2,3,4,5}\n",
        "set2={3,4,5,6,7}\n",
        "set1.union(set2)#It performs union opertion on both the sets"
      ],
      "execution_count": 21,
      "outputs": [
        {
          "output_type": "execute_result",
          "data": {
            "text/plain": [
              "{1, 2, 3, 4, 5, 6, 7}"
            ]
          },
          "metadata": {
            "tags": []
          },
          "execution_count": 21
        }
      ]
    },
    {
      "cell_type": "code",
      "metadata": {
        "id": "3KN1fSGm9vaQ",
        "colab_type": "code",
        "colab": {
          "base_uri": "https://localhost:8080/",
          "height": 34
        },
        "outputId": "63afbbff-71e7-4279-abf7-4a1fc21c3198"
      },
      "source": [
        "set1.intersection(set2)\n",
        "print(set1)"
      ],
      "execution_count": 23,
      "outputs": [
        {
          "output_type": "stream",
          "text": [
            "{1, 2, 3, 4, 5}\n"
          ],
          "name": "stdout"
        }
      ]
    },
    {
      "cell_type": "code",
      "metadata": {
        "id": "bAeIEoDD902s",
        "colab_type": "code",
        "colab": {
          "base_uri": "https://localhost:8080/",
          "height": 34
        },
        "outputId": "79874602-a912-4b47-b196-bfce6836abc5"
      },
      "source": [
        "set1={1,2,3,4,5}\n",
        "set2={3,4,5,6,7}\n",
        "set1.intersection_update(set2)#It update the set1 value with intersection result\n",
        "print(set1)"
      ],
      "execution_count": 24,
      "outputs": [
        {
          "output_type": "stream",
          "text": [
            "{3, 4, 5}\n"
          ],
          "name": "stdout"
        }
      ]
    },
    {
      "cell_type": "code",
      "metadata": {
        "id": "IZ6ZwfMv9-ZJ",
        "colab_type": "code",
        "colab": {
          "base_uri": "https://localhost:8080/",
          "height": 68
        },
        "outputId": "a3bb6166-e305-4b97-8690-8a83f1332729"
      },
      "source": [
        "set1={1,2,3,4,5,6}\n",
        "set2={3,4,5,6,7,8}\n",
        "print(set1.difference(set2))\n",
        "print(set1.difference_update(set2))\n",
        "print(set1)"
      ],
      "execution_count": 14,
      "outputs": [
        {
          "output_type": "stream",
          "text": [
            "{1, 2}\n",
            "None\n",
            "{1, 2}\n"
          ],
          "name": "stdout"
        }
      ]
    },
    {
      "cell_type": "code",
      "metadata": {
        "id": "UxPaIs3f-DPh",
        "colab_type": "code",
        "colab": {
          "base_uri": "https://localhost:8080/",
          "height": 68
        },
        "outputId": "14cab759-a664-466c-9140-ba7edd74abb5"
      },
      "source": [
        "set1={1,2,3,4,5,6}\n",
        "set2={3,4,5,6,7,8}\n",
        "print(set1.symmetric_difference(set2))\n",
        "print(set1.symmetric_difference_update(set2))\n",
        "print(set1)"
      ],
      "execution_count": 25,
      "outputs": [
        {
          "output_type": "stream",
          "text": [
            "{1, 2, 7, 8}\n",
            "None\n",
            "{1, 2, 7, 8}\n"
          ],
          "name": "stdout"
        }
      ]
    },
    {
      "cell_type": "code",
      "metadata": {
        "id": "JsepmFft-JRq",
        "colab_type": "code",
        "colab": {
          "base_uri": "https://localhost:8080/",
          "height": 51
        },
        "outputId": "91707bbb-8faf-4e7c-812e-a7bf4073cb10"
      },
      "source": [
        "set3=set2.copy()\n",
        "print(set3)\n",
        "print(set2)"
      ],
      "execution_count": 26,
      "outputs": [
        {
          "output_type": "stream",
          "text": [
            "{3, 4, 5, 6, 7, 8}\n",
            "{3, 4, 5, 6, 7, 8}\n"
          ],
          "name": "stdout"
        }
      ]
    },
    {
      "cell_type": "code",
      "metadata": {
        "id": "gmqcV242-R_X",
        "colab_type": "code",
        "colab": {
          "base_uri": "https://localhost:8080/",
          "height": 34
        },
        "outputId": "14ac08cf-7a3a-4f9d-d18f-b73e7801eecf"
      },
      "source": [
        "set1.isdisjoint(set2)"
      ],
      "execution_count": 15,
      "outputs": [
        {
          "output_type": "execute_result",
          "data": {
            "text/plain": [
              "True"
            ]
          },
          "metadata": {
            "tags": []
          },
          "execution_count": 15
        }
      ]
    },
    {
      "cell_type": "code",
      "metadata": {
        "id": "FdoHtr71-Yc5",
        "colab_type": "code",
        "colab": {
          "base_uri": "https://localhost:8080/",
          "height": 34
        },
        "outputId": "0bcce532-4e9c-4f54-a3c4-cbab7e94ff6e"
      },
      "source": [
        "set1={1,2,3,4}\n",
        "set2={1,2,3,4,5,6,7,8}\n",
        "set1.issuperset(set2)"
      ],
      "execution_count": 27,
      "outputs": [
        {
          "output_type": "execute_result",
          "data": {
            "text/plain": [
              "False"
            ]
          },
          "metadata": {
            "tags": []
          },
          "execution_count": 27
        }
      ]
    },
    {
      "cell_type": "code",
      "metadata": {
        "id": "6C_CrSTu-eQA",
        "colab_type": "code",
        "colab": {
          "base_uri": "https://localhost:8080/",
          "height": 34
        },
        "outputId": "b0f9f3d0-3111-4318-cce3-fd08036a0aa4"
      },
      "source": [
        "set1.issubset(set2)"
      ],
      "execution_count": 28,
      "outputs": [
        {
          "output_type": "execute_result",
          "data": {
            "text/plain": [
              "True"
            ]
          },
          "metadata": {
            "tags": []
          },
          "execution_count": 28
        }
      ]
    },
    {
      "cell_type": "code",
      "metadata": {
        "id": "r73ThKCM-_jM",
        "colab_type": "code",
        "colab": {}
      },
      "source": [
        ""
      ],
      "execution_count": null,
      "outputs": []
    }
  ]
}
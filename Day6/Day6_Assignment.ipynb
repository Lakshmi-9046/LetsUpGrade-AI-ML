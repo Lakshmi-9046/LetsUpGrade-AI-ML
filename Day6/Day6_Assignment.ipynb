{
  "nbformat": 4,
  "nbformat_minor": 0,
  "metadata": {
    "colab": {
      "name": "Day6_Assignment.ipynb",
      "provenance": []
    },
    "kernelspec": {
      "name": "python3",
      "display_name": "Python 3"
    }
  },
  "cells": [
    {
      "cell_type": "markdown",
      "metadata": {
        "id": "_VzzCPhIKEZN",
        "colab_type": "text"
      },
      "source": [
        "### Assuming that we have some email addresses in the \"username@companyname.com\" format, please write program to print the company name of a given email address. Both user names and company names are composed of letters only."
      ]
    },
    {
      "cell_type": "code",
      "metadata": {
        "id": "gW2gjby6KIcQ",
        "colab_type": "code",
        "colab": {
          "base_uri": "https://localhost:8080/",
          "height": 51
        },
        "outputId": "086903c7-f23d-410e-ab82-0cbf3c3a93d6"
      },
      "source": [
        "import re\n",
        "email_address=input(\"enter the email address :\")\n",
        "lis=re.split(r'[@.]',email_address)\n",
        "print(lis[1])"
      ],
      "execution_count": null,
      "outputs": [
        {
          "output_type": "stream",
          "text": [
            "enter the email address :lakshmi@google.com\n",
            "google\n"
          ],
          "name": "stdout"
        }
      ]
    },
    {
      "cell_type": "markdown",
      "metadata": {
        "id": "xv3ZkhsKNF4j",
        "colab_type": "text"
      },
      "source": [
        "### Write a program that accepts a comma-separated sequence of words as input and prints the words in a comma separated sequence after sorting them alphabetically."
      ]
    },
    {
      "cell_type": "code",
      "metadata": {
        "id": "80a7jwe1KkZf",
        "colab_type": "code",
        "colab": {
          "base_uri": "https://localhost:8080/",
          "height": 51
        },
        "outputId": "356695e9-7dd9-44bc-e4bd-7d72378b184e"
      },
      "source": [
        "list_words=input().split(\",\")\n",
        "list_words.sort()\n",
        "for i in range(len(list_words)):\n",
        "  if i==len(list_words)-1:\n",
        "         print(list_words[i],end=\"\")\n",
        "  else:\n",
        "    print(list_words[i],end=\",\")\n"
      ],
      "execution_count": null,
      "outputs": [
        {
          "output_type": "stream",
          "text": [
            "without,hello,bag,world\n",
            "bag,hello,without,world"
          ],
          "name": "stdout"
        }
      ]
    },
    {
      "cell_type": "markdown",
      "metadata": {
        "id": "1R0rIJFtPkfe",
        "colab_type": "text"
      },
      "source": [
        "### Given a list of n-1 numbers ranging from 1 to n, your task is to find the missing number. There are no duplicates.  \n",
        "Input Format: The first line contains n-1 numbers with each number separated by a space. \n",
        "\n",
        "Output Format: Print the missing number"
      ]
    },
    {
      "cell_type": "code",
      "metadata": {
        "id": "9UPYpi9oN2jV",
        "colab_type": "code",
        "colab": {
          "base_uri": "https://localhost:8080/",
          "height": 51
        },
        "outputId": "479924e3-77b3-47b8-fd62-7e53aa497694"
      },
      "source": [
        "list_numbers=[int(x) for x in input().split()]\n",
        "range1=len(list_numbers)+1\n",
        "list2=range(1,range1)\n",
        "set1=set(list_numbers)\n",
        "set2=set(list2)\n",
        "res=set2.difference(set1)\n",
        "res=list(res)\n",
        "print(res[0])"
      ],
      "execution_count": null,
      "outputs": [
        {
          "output_type": "stream",
          "text": [
            "1 2 3 4 5 7 8 9\n",
            "6\n"
          ],
          "name": "stdout"
        }
      ]
    },
    {
      "cell_type": "code",
      "metadata": {
        "id": "10sfepkAR2jc",
        "colab_type": "code",
        "colab": {}
      },
      "source": [
        ""
      ],
      "execution_count": null,
      "outputs": []
    },
    {
      "cell_type": "markdown",
      "metadata": {
        "id": "fUsqOyv5c3rt",
        "colab_type": "text"
      },
      "source": [
        "### With a given list L, write a program to print this list L after removing all duplicate values with original order reserved"
      ]
    },
    {
      "cell_type": "code",
      "metadata": {
        "id": "3QQ790EzdBJJ",
        "colab_type": "code",
        "colab": {
          "base_uri": "https://localhost:8080/",
          "height": 51
        },
        "outputId": "687d375e-7aa7-42dc-b883-6ec278ba675d"
      },
      "source": [
        "l=[int(x) for x in input().split()]\n",
        "l2=[]\n",
        "for i in range(len(l)):\n",
        "  if l[i] not in l[i+1: ]:\n",
        "    l2.append(l[i])\n",
        "print(l2)\n"
      ],
      "execution_count": 2,
      "outputs": [
        {
          "output_type": "stream",
          "text": [
            "12 24 35 24 88 120 155 88 120 155\n",
            "[12, 35, 24, 88, 120, 155]\n"
          ],
          "name": "stdout"
        }
      ]
    },
    {
      "cell_type": "code",
      "metadata": {
        "id": "cUbiC8Qod9or",
        "colab_type": "code",
        "colab": {}
      },
      "source": [
        ""
      ],
      "execution_count": null,
      "outputs": []
    }
  ]
}
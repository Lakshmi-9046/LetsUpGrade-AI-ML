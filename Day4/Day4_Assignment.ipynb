{
  "nbformat": 4,
  "nbformat_minor": 0,
  "metadata": {
    "colab": {
      "name": "Day4_Assignment.ipynb",
      "provenance": []
    },
    "kernelspec": {
      "name": "python3",
      "display_name": "Python 3"
    }
  },
  "cells": [
    {
      "cell_type": "markdown",
      "metadata": {
        "id": "-MS5CFge7Hyo",
        "colab_type": "text"
      },
      "source": [
        "#  Research on whether addition, subtraction, multiplication, division, floor division and modulo operations be performed on complex numbers. Based on your study, implement a Python program to demonstrate these operations."
      ]
    },
    {
      "cell_type": "markdown",
      "metadata": {
        "id": "UY-tmNm_GVSZ",
        "colab_type": "text"
      },
      "source": [
        "The floor and modulo operations on complex numbers are not supported in python3 version.The floor and modulo operations on complex numbers are allowed in python2.7 x"
      ]
    },
    {
      "cell_type": "code",
      "metadata": {
        "id": "RfqsEV0H8IRM",
        "colab_type": "code",
        "colab": {
          "base_uri": "https://localhost:8080/",
          "height": 85
        },
        "outputId": "514b664a-c72c-4473-9947-c8f7411f5147"
      },
      "source": [
        "comp1=complex(1,2)\n",
        "comp2=complex(4,5)\n",
        "print(\"Addition=\",comp1+comp2)\n",
        "print(\"Subtraction=\",comp1-comp2)\n",
        "print(\"Multiplication=\",comp1*comp2)\n",
        "print(\"Division=\",comp1/comp2)\n",
        "#print(comp1%comp2)\n",
        "#print(comp1//comp2)\n"
      ],
      "execution_count": 16,
      "outputs": [
        {
          "output_type": "stream",
          "text": [
            "Addition= (5+7j)\n",
            "Subtraction= (-3-3j)\n",
            "Multiplication= (-6+13j)\n",
            "Division= (0.34146341463414637+0.0731707317073171j)\n"
          ],
          "name": "stdout"
        }
      ]
    },
    {
      "cell_type": "markdown",
      "metadata": {
        "id": "crv_C48f8Jue",
        "colab_type": "text"
      },
      "source": [
        "# Research on range() functions and its parameters. Create a markdown cell and write in your own words what you understand about it. Implement a small program of your choice on the same."
      ]
    },
    {
      "cell_type": "markdown",
      "metadata": {
        "id": "XS3KJHnVFrkE",
        "colab_type": "text"
      },
      "source": [
        "# New Section"
      ]
    },
    {
      "cell_type": "markdown",
      "metadata": {
        "id": "CmCY50guAqWd",
        "colab_type": "text"
      },
      "source": [
        "### range(): Range function is used to generate the range of elements of a given number 0 to n-1.In python it is generally used in the for loop to generate the numbers\n",
        "syntax of range():\n",
        "\n",
        "range(start,stop,step)\n",
        "start--> It indicates starting range\n",
        "stop--> It indicates ending range\n",
        "step--> It specifies the incrementation number by default value is 1\n",
        "\n",
        "Three ways to pass the parameters to range():\n",
        "\n",
        "range(n)---> It generates  0 to n-1 elements\n",
        "range(1,n)--->It generates the 1 to n-1 elements\n",
        "range(1,n,2)--->It generates the from 1 to n-1 with step count of 2"
      ]
    },
    {
      "cell_type": "code",
      "metadata": {
        "id": "F49A9jhb8Pmx",
        "colab_type": "code",
        "colab": {
          "base_uri": "https://localhost:8080/",
          "height": 105
        },
        "outputId": "3f058605-b936-4edc-ba15-f5cbb5194306"
      },
      "source": [
        "for i in range(10):\n",
        "  print(i,end=\" \")\n",
        "print(\"\\n\")\n",
        "for i in range(1,10):\n",
        "  print(i,end=\" \")\n",
        "print(\"\\n\")\n",
        "for i in range(1,10,2):\n",
        "  print(i,end=\" \")"
      ],
      "execution_count": 12,
      "outputs": [
        {
          "output_type": "stream",
          "text": [
            "0 1 2 3 4 5 6 7 8 9 \n",
            "\n",
            "1 2 3 4 5 6 7 8 9 \n",
            "\n",
            "1 3 5 7 9 "
          ],
          "name": "stdout"
        }
      ]
    },
    {
      "cell_type": "markdown",
      "metadata": {
        "id": "zlervPja8Q_S",
        "colab_type": "text"
      },
      "source": [
        "# Consider two numbers. Perform their subtraction and if the result of subtraction is greater than 25, print their multiplication result else print their division result."
      ]
    },
    {
      "cell_type": "code",
      "metadata": {
        "id": "999xsCWW8XFp",
        "colab_type": "code",
        "colab": {
          "base_uri": "https://localhost:8080/",
          "height": 70
        },
        "outputId": "25ec1a4c-53dc-461c-f839-fb212d8c943e"
      },
      "source": [
        "num1=int(input(\"Enter the number1: \"))\n",
        "num2=int(input(\"Enter the second number2: \"))\n",
        "res=num1-num2\n",
        "if res>25:\n",
        "  print(\"Multiplication=\",num1*num2)\n",
        "else:\n",
        "  print(\"Division=\",num1/num2)"
      ],
      "execution_count": 10,
      "outputs": [
        {
          "output_type": "stream",
          "text": [
            "Enter the number1: 10\n",
            "Enter the second number2: 2\n",
            "Division= 5.0\n"
          ],
          "name": "stdout"
        }
      ]
    },
    {
      "cell_type": "markdown",
      "metadata": {
        "id": "abQqYSmg8b95",
        "colab_type": "text"
      },
      "source": [
        "#  Consider a list of 10 elements of integer values. If the number in the list is divisible by 2, print the result as \"square of that number minus 2\"."
      ]
    },
    {
      "cell_type": "code",
      "metadata": {
        "id": "Lo1FQIao8hzj",
        "colab_type": "code",
        "colab": {
          "base_uri": "https://localhost:8080/",
          "height": 176
        },
        "outputId": "64939912-1672-45f8-fb36-1a61b330219f"
      },
      "source": [
        "print(\"enter 10 elements\\n\")\n",
        "lis=[int(x) for x in input().split() [:10]]\n",
        "for i in lis:\n",
        "  if i%2==0:\n",
        "    print(i,\" =\",i*i-2)"
      ],
      "execution_count": 6,
      "outputs": [
        {
          "output_type": "stream",
          "text": [
            "enter 10 elements\n",
            "\n",
            "3 4 5 6 7 8 22 44 66 21\n",
            "4  = 14\n",
            "6  = 34\n",
            "8  = 62\n",
            "22  = 482\n",
            "44  = 1934\n",
            "66  = 4354\n"
          ],
          "name": "stdout"
        }
      ]
    },
    {
      "cell_type": "markdown",
      "metadata": {
        "id": "edtyKuRK8jaW",
        "colab_type": "text"
      },
      "source": [
        "# Consider a list of 10 elements. Print all the elements in the list which are greater than 7 when that number is divided 2."
      ]
    },
    {
      "cell_type": "code",
      "metadata": {
        "id": "cpuJWM7J8onS",
        "colab_type": "code",
        "colab": {
          "base_uri": "https://localhost:8080/",
          "height": 105
        },
        "outputId": "6d341354-f1f0-4d18-a14e-0d21be30478d"
      },
      "source": [
        "print(\"enter 10 elements\\n\")\n",
        "lis=[int(x) for x in input().split() [:10]]\n",
        "for i in lis:\n",
        "  if i>7 and i%2==0:\n",
        "    print(i)"
      ],
      "execution_count": 4,
      "outputs": [
        {
          "output_type": "stream",
          "text": [
            "enter 10 elements\n",
            "\n",
            "1 2 3 4 5 6 7 8 9 10 11 12\n",
            "8\n",
            "10\n"
          ],
          "name": "stdout"
        }
      ]
    },
    {
      "cell_type": "code",
      "metadata": {
        "id": "QQQW-mkE88n_",
        "colab_type": "code",
        "colab": {}
      },
      "source": [
        ""
      ],
      "execution_count": null,
      "outputs": []
    }
  ]
}